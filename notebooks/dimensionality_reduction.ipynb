{
 "cells": [
  {
   "cell_type": "markdown",
   "metadata": {},
   "source": [
    "# Principal Component Analysis"
   ]
  },
  {
   "cell_type": "markdown",
   "metadata": {},
   "source": [
    "Reference:\n",
    "\n",
    "_Zaki, Mohammed J., Wagner Meira Jr, and Wagner Meira. Data mining and analysis: fundamental concepts and algorithms. Cambridge University Press, 2014._\n",
    "\n",
    "Chapter 7 - Dimensionality R"
   ]
  },
  {
   "cell_type": "code",
   "execution_count": 1,
   "metadata": {},
   "outputs": [],
   "source": [
    "%matplotlib inline\n",
    "\n",
    "import numpy as np\n",
    "import scipy as sc\n",
    "import pandas as pd\n",
    "import sklearn as sk\n",
    "import matplotlib.pyplot as plt\n",
    "import seaborn as sns"
   ]
  },
  {
   "cell_type": "code",
   "execution_count": 2,
   "metadata": {},
   "outputs": [
    {
     "name": "stdout",
     "output_type": "stream",
     "text": [
      "[3.66150223 0.23962849 0.05886927]\n",
      "[[-0.39013364  0.63894319  0.66298367]\n",
      " [ 0.08878534  0.7427908  -0.66361058]\n",
      " [-0.91646763 -0.20003358 -0.34651646]]\n"
     ]
    }
   ],
   "source": [
    "SIGMA = np.array([[0.681, -0.039, 1.265], [-0.039, 0.187, -0.320], [1.265, -0.320, 3.092]]) # Covariance matrix.\n",
    "\n",
    "eigvalues, eigvecs = np.linalg.eig(SIGMA) # Compute eigenvalues and eigenvectors.\n",
    "\n",
    "eigvalues_indsort = np.argsort(eigvalues)[::-1]\n",
    "eigvalues = eigvalues[eigvalues_indsort]\n",
    "eigvecs = np.transpose(np.transpose(eigvecs)[eigvalues_indsort])\n",
    "\n",
    "print(eigvalues)\n",
    "print(eigvecs)"
   ]
  },
  {
   "cell_type": "markdown",
   "metadata": {},
   "source": [
    "## First principal component"
   ]
  },
  {
   "cell_type": "code",
   "execution_count": 3,
   "metadata": {},
   "outputs": [
    {
     "name": "stdout",
     "output_type": "stream",
     "text": [
      "First eigenvalue: 3.6615022318061774\n",
      "[-0.39013364  0.08878534 -0.91646763]\n"
     ]
    },
    {
     "data": {
      "text/plain": [
       "0.29849776819382257"
      ]
     },
     "execution_count": 3,
     "metadata": {},
     "output_type": "execute_result"
    }
   ],
   "source": [
    "firstpc_var = eigvalues[0] # First principal component variance.\n",
    "firstpc = np.transpose(eigvecs)[0] # First principal component.\n",
    "\n",
    "print(\"First eigenvalue: {}\".format(firstpc_var))\n",
    "print(firstpc)\n",
    "\n",
    "mse_firstpc = np.trace(SIGMA) - firstpc_var # MSE associated with the first principal component.\n",
    "\n",
    "mse_firstpc"
   ]
  },
  {
   "cell_type": "markdown",
   "metadata": {},
   "source": [
    "## Second principal component"
   ]
  },
  {
   "cell_type": "code",
   "execution_count": 4,
   "metadata": {},
   "outputs": [
    {
     "name": "stdout",
     "output_type": "stream",
     "text": [
      "Second eigenvalue: 0.2396284937166691\n",
      "[ 0.63894319  0.7427908  -0.20003358]\n"
     ]
    },
    {
     "data": {
      "text/plain": [
       "0.058869274477153455"
      ]
     },
     "execution_count": 4,
     "metadata": {},
     "output_type": "execute_result"
    }
   ],
   "source": [
    "secondpc_var = eigvalues[1] # Second principal component variance.\n",
    "secondpc = np.transpose(eigvecs)[1] # Second principal component.\n",
    "\n",
    "print(\"Second eigenvalue: {}\".format(secondpc_var))\n",
    "print(secondpc)\n",
    "\n",
    "mse_secondpc = np.trace(SIGMA) - firstpc_var - secondpc_var # MSE associated with the first principal component.\n",
    "\n",
    "mse_secondpc"
   ]
  },
  {
   "cell_type": "markdown",
   "metadata": {},
   "source": [
    "## Third principal component"
   ]
  },
  {
   "cell_type": "code",
   "execution_count": 5,
   "metadata": {},
   "outputs": [
    {
     "name": "stdout",
     "output_type": "stream",
     "text": [
      "Third eigenvalue: 0.05886927447715408\n",
      "[ 0.66298367 -0.66361058 -0.34651646]\n"
     ]
    },
    {
     "data": {
      "text/plain": [
       "-6.245004513516506e-16"
      ]
     },
     "execution_count": 5,
     "metadata": {},
     "output_type": "execute_result"
    }
   ],
   "source": [
    "thirdpc_var = eigvalues[2] # Third principal component variance.\n",
    "thirdpc = np.transpose(eigvecs)[2] # Third principal component.\n",
    "\n",
    "print(\"Third eigenvalue: {}\".format(thirdpc_var))\n",
    "print(thirdpc)\n",
    "\n",
    "# MSE associated with the first principal component.\n",
    "mse_thirdpc = np.trace(SIGMA) - firstpc_var - secondpc_var - thirdpc_var\n",
    "\n",
    "mse_thirdpc"
   ]
  },
  {
   "cell_type": "markdown",
   "metadata": {},
   "source": [
    "# Kernel Component Analysis"
   ]
  },
  {
   "cell_type": "code",
   "execution_count": 68,
   "metadata": {},
   "outputs": [],
   "source": [
    "from sklearn.datasets import load_iris"
   ]
  },
  {
   "cell_type": "code",
   "execution_count": 153,
   "metadata": {},
   "outputs": [],
   "source": [
    "iris = load_iris()\n",
    "\n",
    "sepal_length = iris.data[:, 0]\n",
    "sepal_width = iris.data[:, 1]"
   ]
  },
  {
   "cell_type": "code",
   "execution_count": 154,
   "metadata": {},
   "outputs": [],
   "source": [
    "X1 = 0.2 * (sepal_length**2) + (sepal_width**2) + 0.1 * sepal_length * sepal_width\n",
    "X2 = sepal_width"
   ]
  },
  {
   "cell_type": "code",
   "execution_count": 155,
   "metadata": {
    "scrolled": true
   },
   "outputs": [],
   "source": [
    "X = np.transpose(np.array([X1, X2]))"
   ]
  },
  {
   "cell_type": "code",
   "execution_count": 156,
   "metadata": {},
   "outputs": [],
   "source": [
    "X = sk.preprocessing.scale(X, axis=0, with_std=False)"
   ]
  },
  {
   "cell_type": "code",
   "execution_count": 157,
   "metadata": {
    "scrolled": true
   },
   "outputs": [],
   "source": [
    "covariance_matrix = np.dot(np.transpose(X), X)/X.shape[0]\n",
    "\n",
    "# covariance_matrix = np.cov(X, rowvar = False)"
   ]
  },
  {
   "cell_type": "code",
   "execution_count": 158,
   "metadata": {},
   "outputs": [
    {
     "name": "stdout",
     "output_type": "stream",
     "text": [
      "[12.39104468  0.07302727]\n",
      "[[ 0.99537316 -0.09608476]\n",
      " [ 0.09608476  0.99537316]]\n"
     ]
    }
   ],
   "source": [
    "eigvalues, eigvecs = np.linalg.eig(covariance_matrix) # Compute eigenvalues and eigenvectors.\n",
    "\n",
    "eigvalues_indsort = np.argsort(eigvalues)[::-1]\n",
    "eigvalues = eigvalues[eigvalues_indsort]\n",
    "eigvecs = np.transpose(np.transpose(eigvecs)[eigvalues_indsort])\n",
    "\n",
    "print(eigvalues)\n",
    "\n",
    "print(eigvecs)"
   ]
  },
  {
   "cell_type": "code",
   "execution_count": 143,
   "metadata": {},
   "outputs": [
    {
     "data": {
      "text/plain": [
       "array([[ 0.99537316,  0.09608476],\n",
       "       [ 0.09608476, -0.99537316]])"
      ]
     },
     "execution_count": 143,
     "metadata": {},
     "output_type": "execute_result"
    }
   ],
   "source": [
    "from sklearn.decomposition import PCA\n",
    "\n",
    "pca = PCA(n_components=2)\n",
    "\n",
    "model = pca.fit(X)\n",
    "\n",
    "model.components_"
   ]
  }
 ],
 "metadata": {
  "kernelspec": {
   "display_name": "Python 3",
   "language": "python",
   "name": "python3"
  },
  "language_info": {
   "codemirror_mode": {
    "name": "ipython",
    "version": 3
   },
   "file_extension": ".py",
   "mimetype": "text/x-python",
   "name": "python",
   "nbconvert_exporter": "python",
   "pygments_lexer": "ipython3",
   "version": "3.6.4"
  }
 },
 "nbformat": 4,
 "nbformat_minor": 2
}
