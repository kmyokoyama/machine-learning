{
 "cells": [
  {
   "cell_type": "code",
   "execution_count": 1,
   "metadata": {
    "collapsed": true
   },
   "outputs": [],
   "source": [
    "%matplotlib inline\n",
    "\n",
    "import numpy as np\n",
    "import scipy as sc\n",
    "import pandas as pd\n",
    "import matplotlib.pyplot as plt\n",
    "import seaborn as sns\n",
    "import sympy as sp\n",
    "\n",
    "import itertools\n",
    "\n",
    "sns.set();"
   ]
  },
  {
   "cell_type": "code",
   "execution_count": 2,
   "metadata": {
    "collapsed": true
   },
   "outputs": [],
   "source": [
    "def extract(it):\n",
    "    r\"\"\"\n",
    "    Extract the values from a iterable of iterables.\n",
    "    \n",
    "    The function extracts the values from a iterable of iterables (eg. a list of tuples) to a list\n",
    "    of coordinates. For example,\n",
    "    \n",
    "    [(1, 10), (2, 20), (3, 30), (4, 40)] -> [[1, 2, 3, 4], [10, 20, 30, 40]]\n",
    "    \n",
    "    If `it` is a list of M tuples each one with N elements, then `extract` returns\n",
    "    a list of N lists each one with M elements.\n",
    "    \n",
    "    Parameters\n",
    "    ----------\n",
    "    it : iterable\n",
    "        An iterable of iterables.\n",
    "        \n",
    "    Returns\n",
    "    ------\n",
    "    A list with the lists of first-elements, second-elements and so on.\n",
    "    \"\"\"\n",
    "    \n",
    "    return list(zip(*it))"
   ]
  },
  {
   "cell_type": "markdown",
   "metadata": {},
   "source": [
    "# Runge-Kutta methods"
   ]
  },
  {
   "cell_type": "markdown",
   "metadata": {},
   "source": [
    "The Runge-Kutta methods are in fact a family of methods designed to solve an ODE of the form:\n",
    "\n",
    "$$y' = f(t, y)$$\n",
    "\n",
    "with initial condition\n",
    "\n",
    "$$y(t_{0}) = y_{0}$$\n",
    "\n",
    "In other words, an initial condition problem."
   ]
  },
  {
   "cell_type": "markdown",
   "metadata": {},
   "source": [
    "## Two-stage Runge-Kutta methods"
   ]
  },
  {
   "cell_type": "markdown",
   "metadata": {},
   "source": [
    "The so-called two-stage Runge-Kutta method has equations:\n",
    "\n",
    "$$y_{k+1} = y_{k} + h\\left(1 - \\frac{1}{2\\lambda}k_{1} + \\frac{1}{2\\lambda}k_{2}\\right)$$\n",
    "\n",
    "where\n",
    "\n",
    "$$k_{1} = f(x_{k}, y_{k})$$\n",
    "\n",
    "and\n",
    "\n",
    "$$k_{2} = f(x_{k} + \\lambda h, y_{k} + \\lambda h k_{1})$$\n",
    "\n",
    "The name \"two-stage\" comes from the fact that it is actually computed in two stages. First, we have to find $k_{1}$. Then we use that value to compute $k_{2}$.\n",
    "\n",
    "Depending on the value given to $\\lambda$, the method has different names. If $\\lambda$ equals $1$, then it is called _improved Euler's method_. If $\\lambda$ equals $2/3$, then it is called _Heun's method_."
   ]
  },
  {
   "cell_type": "markdown",
   "metadata": {},
   "source": [
    "### Improved Euler's method"
   ]
  },
  {
   "cell_type": "markdown",
   "metadata": {},
   "source": [
    "By making $\\lambda$ equals to $1$ in the general equation of the two-stage Runge-Kutta, we get the improved Euler's method. The equations are the following:\n",
    "\n",
    "$$y_{k+1} = y_{k} + h\\left(\\frac{1}{2}k_{1} + \\frac{1}{2}k_{2}\\right)$$\n",
    "\n",
    "with\n",
    "\n",
    "$$k_{1} = f(x_{k}, y_{k})$$\n",
    "\n",
    "and\n",
    "\n",
    "$$k_{2} = f(x_{k} + h, y_{k} + hk_{1})$$"
   ]
  },
  {
   "cell_type": "markdown",
   "metadata": {},
   "source": [
    "### Heun's method"
   ]
  },
  {
   "cell_type": "markdown",
   "metadata": {},
   "source": [
    "As I said, the Heun's method comes from making $\\lambda$ equals to $2/3$ in the general formula of the two-stage Runge-Kutta. The resulting equations are the following:\n",
    "\n",
    "$$y_{k+1} = y_{k} + h\\left(\\frac{1}{4}k_{1} + \\frac{3}{4}k_{2}\\right)$$\n",
    "\n",
    "where\n",
    "\n",
    "$$k_{1} = f(x_{k}, y_{k})$$\n",
    "\n",
    "and\n",
    "\n",
    "$$k_{2} = f(x_{k} + \\frac{2}{3}h, y_{k} + \\frac{2}{3}hk_{1})$$"
   ]
  },
  {
   "cell_type": "markdown",
   "metadata": {},
   "source": [
    "## Four-stage Runge-Kutta methods"
   ]
  },
  {
   "cell_type": "markdown",
   "metadata": {},
   "source": [
    "### Classical Runge-Kutta method (RK4)"
   ]
  },
  {
   "cell_type": "markdown",
   "metadata": {},
   "source": [
    "The method often referred as _classical Runge-Kutta method_ or simply _RK4_ is the Runge-Kutta method of 4 stages given by equations below:\n",
    "\n",
    "$$y_{k+1} = y_{k} + \\frac{h}{6}(k_{1} + 2k_{2} + 2k_{3} + k_{4}), n = 0, 1, 2, \\dots$$\n",
    "\n",
    "with\n",
    "\n",
    "$$k_{1} = f(x_{k}, y_{k})$$\n",
    "$$k_{2} = f\\left(x_{k} + \\frac{h}{2}, y_{k} + \\frac{h}{2}k_{1}\\right)$$\n",
    "$$k_{3} = f\\left(x_{k} + \\frac{h}{2}, x_{k} + \\frac{h}{2}k_{2}\\right)$$\n",
    "$$k_{4} = f(x_{k} + h, y_{k} + h k_{3})$$"
   ]
  },
  {
   "cell_type": "markdown",
   "metadata": {},
   "source": [
    "### Variant of the classical Runge-Kutta method"
   ]
  },
  {
   "cell_type": "markdown",
   "metadata": {},
   "source": [
    "There is a variation of the classical Runge-Kutta method (RK4) method. It is given by the following equations:\n",
    "\n",
    "$$y_{k+1} = y_{k} + \\frac{h}{8}(k_{1} + 3k_{2} + 3k_{3} + k_{4}), n = 0, 1, 2, \\dots$$\n",
    "\n",
    "with\n",
    "\n",
    "$$k_{1} = f(x_{k}, y_{k})$$\n",
    "$$k_{2} = f\\left(x_{k} + \\frac{h}{3}, y_{k} + \\frac{h}{3}k_{1}\\right)$$\n",
    "$$k_{3} = f\\left(x_{k} + \\frac{2h}{3}, x_{k} + \\frac{-h}{3}k_{1} + k_{2}\\right)$$\n",
    "$$k_{4} = f(x_{k} + h, y_{k} + hk_{1} - hk_{2} + hk_{3})$$"
   ]
  },
  {
   "cell_type": "markdown",
   "metadata": {},
   "source": [
    "## General form and more theory"
   ]
  },
  {
   "cell_type": "markdown",
   "metadata": {},
   "source": [
    "In general, the whole family of Runge-Kutta methods can be written as\n",
    "\n",
    "$$y_{k+1} = y_{k} + h \\sum_{i=1}^{s}b_{i}k_{i}$$\n",
    "\n",
    "where\n",
    "\n",
    "$$k_{1} = f(x_{k}, y_{k})$$\n",
    "$$k_{2} = f(x_{k} + c_{2}h, y_{k} + h(a_{21}k_{1}))$$\n",
    "$$k_{3} = f(x_{k} + c_{3}h, y_{k} + h(a_{31}k_{1} + a_{32}k_{2}))$$\n",
    "$$\\vdots$$\n",
    "$$k_{s} = f(x_{k} + c_{s}h, y_{k} + h(a_{s1}k_{1} + a_{s2}k_{2} + \\cdots + a_{ss-1}k_{s-1}))$$\n",
    "\n",
    "A Runge-Kutta method is specified by\n",
    "\n",
    "$s \\doteq$ the number of stages, for $s \\geq 1$,  \n",
    "$b_{i} \\doteq$ the weights, for $i \\in \\{1, 2, \\cdots, s\\}$,  \n",
    "$c_{i} \\doteq$ the loadings, for $i \\in \\{2, 2, \\cdots, s\\}$,  \n",
    "$a_{ij} \\doteq$ the coefficients of $k_{j}$ in equation of $k_{i}$, for $1 \\leq j < i \\leq s$.  "
   ]
  },
  {
   "cell_type": "markdown",
   "metadata": {},
   "source": [
    "### Butcher tableau"
   ]
  },
  {
   "cell_type": "markdown",
   "metadata": {},
   "source": [
    "A compact way of summarising these parameters is the Butcher tableau. Its general form is shown below.\n",
    "\n",
    "|$0$      |         |         |         |           |        |\n",
    "|:-------:|---------|---------|---------|-----------|--------|\n",
    "|$c_{2}$  |$a_{21}$ |         |         |           |        |\n",
    "|$c_{3}$  |$a_{31}$ |$a_{32}$ |         |           |        |\n",
    "|$\\vdots$ |$\\vdots$ |$\\vdots$ |$\\ddots$ |           |        |\n",
    "|$c_{s}$  |$a_{s1}$ |$a_{s2}$ |$\\cdots$ |$a_{ss-1}$ |        |\n",
    "|         |$b_{1}$  |$b_{2}$  |$\\cdots$ |$b_{s-1}$  |$b_{s}$ |"
   ]
  },
  {
   "cell_type": "markdown",
   "metadata": {},
   "source": [
    "### Method's order"
   ]
  },
  {
   "cell_type": "markdown",
   "metadata": {},
   "source": [
    "A method is said to have order $p$ if the local truncation error is $O(h^{p+1})$. The minimum number of stages, $s$, required for a method to be of order $p$ until order 8 is given by the following table\n",
    "\n",
    "|$p$     |1  |2  |3  |4  |5  |6  |7  |8  |\n",
    "|:------:|---|---|---|---|---|---|---|---|\n",
    "|min $s$ |1  |2  |3  |4  |6  |7  |9  |11 |"
   ]
  },
  {
   "cell_type": "markdown",
   "metadata": {},
   "source": [
    "### Consistency"
   ]
  },
  {
   "cell_type": "markdown",
   "metadata": {},
   "source": [
    "The method is said to be consistent if\n",
    "\n",
    "$$\\sum_{j=1}^{i-1}a_{ij} = c_{i}, \\text{for } i = 2, \\cdots, s$$\n",
    "\n",
    "In other words, it is consistent if the sum of $a_{ij}$ on the $i$-th row is equal to the respective $c_{i}$."
   ]
  },
  {
   "cell_type": "markdown",
   "metadata": {},
   "source": [
    "### Runge-Kutta matrix"
   ]
  },
  {
   "cell_type": "markdown",
   "metadata": {},
   "source": [
    "The $s$-by-$s$ Runge-Kutta matrix $M_{\\mathit{RK}}$ is the lower triangular matrix defined by the coefficients $a_{ij}$ as shown below\n",
    "\n",
    "$$M_{\\mathit{RK}} = \\begin{bmatrix}\n",
    "       0 & 0 & \\cdots & 0 & 0          \\\\[0.3em]\n",
    "       a_{21} & 0 & \\cdots & 0 & 0 \\\\[0.3em]\n",
    "       a_{31} & a_{32} & \\cdots & 0 & 0 \\\\[0.3em]\n",
    "       \\vdots & \\vdots & \\ddots & \\vdots & \\vdots \\\\[0.3em]\n",
    "       a_{s1} & a_{s2} & \\cdots & a_{ss-1} & 0\n",
    "     \\end{bmatrix}$$"
   ]
  },
  {
   "cell_type": "markdown",
   "metadata": {},
   "source": [
    "## Butcher tableau examples"
   ]
  },
  {
   "cell_type": "markdown",
   "metadata": {},
   "source": [
    "* Euler's method:\n",
    "\n",
    "$$y_{n+1} = y_{n} + hf(x_{n}, y_{n})$$\n",
    "\n",
    "\n",
    "|$0$ |    |\n",
    "|:--:|----|\n",
    "|    |$1$ |\n",
    "\n",
    "* Improved Euler's method:\n",
    "\n",
    "$$y_{k+1} = y_{k} + h\\left(\\frac{1}{2}k_{1} + \\frac{1}{2}k_{2}\\right)$$\n",
    "$$k_{1} = f(x_{k}, y_{k})$$\n",
    "$$k_{2} = f(x_{k} + h, y_{k} + hk_{1})$$\n",
    "\n",
    "|$0$ |              |              |\n",
    "|:--:|--------------|--------------|\n",
    "|$1$ |$1$           |              |\n",
    "|    |$\\frac{1}{2}$ |$\\frac{1}{2}$ |\n",
    "\n",
    "* Heun's method:\n",
    "\n",
    "$$y_{k+1} = y_{k} + h\\left(\\frac{1}{4}k_{1} + \\frac{3}{4}k_{2}\\right)$$\n",
    "$$k_{1} = f(x_{k}, y_{k})$$\n",
    "$$k_{2} = f(x_{k} + \\frac{2}{3}h, y_{k} + \\frac{2}{3}hk_{1})$$\n",
    "\n",
    "|$0$           |              |              |\n",
    "|:------------:|--------------|--------------|\n",
    "|$\\frac{2}{3}$ |$\\frac{2}{3}$ |              |\n",
    "|              |$\\frac{1}{4}$ |$\\frac{3}{4}$ |\n",
    "\n",
    "* Classical Runge-Kutta (RK4):\n",
    "\n",
    "$$y_{k+1} = y_{k} + \\frac{h}{6}(k_{1} + 2k_{2} + 2k_{3} + k_{4}), n = 0, 1, 2, \\dots$$\n",
    "$$k_{1} = f(x_{k}, y_{k})$$\n",
    "$$k_{2} = f\\left(x_{k} + \\frac{h}{2}, y_{k} + \\frac{h}{2}k_{1}\\right)$$\n",
    "$$k_{3} = f\\left(x_{k} + \\frac{h}{2}, y_{k} + \\frac{h}{2}k_{2}\\right)$$\n",
    "$$k_{4} = f(x_{k} + h, y_{k} + h k_{3})$$\n",
    "\n",
    "|$0$           |              |              |              |              |\n",
    "|:------------:|--------------|--------------|--------------|--------------|\n",
    "|$\\frac{1}{2}$ |$\\frac{1}{2}$ |              |              |              |\n",
    "|$\\frac{1}{2}$ |$0$           |$\\frac{1}{2}$ |              |              |\n",
    "|$1$           |$0$           |$0$           |$1$           |              |\n",
    "|              |$\\frac{1}{6}$ |$\\frac{1}{3}$ |$\\frac{1}{3}$ |$\\frac{1}{6}$ |\n",
    "\n",
    "* Variant of the classical Runge-Kutta:\n",
    "\n",
    "$$y_{k+1} = y_{k} + \\frac{h}{8}(k_{1} + 3k_{2} + 3k_{3} + k_{4}), n = 0, 1, 2, \\dots$$\n",
    "$$k_{1} = f(x_{k}, y_{k})$$\n",
    "$$k_{2} = f\\left(x_{k} + \\frac{h}{3}, y_{k} + \\frac{h}{3}k_{1}\\right)$$\n",
    "$$k_{3} = f\\left(x_{k} + \\frac{2h}{3}, y_{k} - \\frac{h}{3}k_{1} + k_{2}\\right)$$\n",
    "$$k_{4} = f(x_{k} + h, y_{k} + hk_{1} - hk_{2} + hk_{3})$$\n",
    "\n",
    "|$0$           |               |              |              |              |\n",
    "|:------------:|---------------|--------------|--------------|--------------|\n",
    "|$\\frac{1}{3}$ |$\\frac{1}{3}$  |              |              |              |\n",
    "|$\\frac{2}{3}$ |$\\frac{-1}{3}$ |$1$           |              |              |\n",
    "|$1$           |$1$            |$-1$          |$1$           |              |\n",
    "|              |$\\frac{1}{8}$  |$\\frac{3}{8}$ |$\\frac{3}{8}$ |$\\frac{1}{8}$ |\n"
   ]
  },
  {
   "cell_type": "markdown",
   "metadata": {},
   "source": [
    "## Code"
   ]
  },
  {
   "cell_type": "markdown",
   "metadata": {},
   "source": [
    "### Two-stage Runge-Kutta methods implementation"
   ]
  },
  {
   "cell_type": "code",
   "execution_count": 3,
   "metadata": {
    "collapsed": true
   },
   "outputs": [],
   "source": [
    "def rk2(x_0, y_0, f, step=0.001, k_max=None, method='improved_euler'):\n",
    "    r\"\"\"\n",
    "    Two-stage Runge-Kutta method for solving first-order ODE.\n",
    "    \n",
    "    The function computes `k_max` iterations from the initial conditions `x_0` and `y_0` with\n",
    "    steps of size `step`. It yields a total of `k_max` + 1 values. Being h_{k} the step at x_{k},\n",
    "    the recorrent equation is:\n",
    "    \n",
    "    y_{k+1} = y_{k} + h_{k} * (1-(1/(2*lambda)) k_{1} + (1/(2*lambda)) k_{2})\n",
    "    \n",
    "    where\n",
    "    \n",
    "    k_{1} = f(x_{k}, y_{k})\n",
    "    k_{2} = f(x_{k} + lambda * h_{k}, y_{k} + lambda * h_{k} * k_{1})\n",
    "    \n",
    "    When `method` is 'improved_euler', `lambda` is set to 1.\n",
    "    When `method` is 'heun', `lambda` is set to 2/3.\n",
    "    \n",
    "    Parameters\n",
    "    ----------\n",
    "    x_0 : float\n",
    "        The initial value for the independent variable.\n",
    "    y_0 : array_like\n",
    "        1-D array of initial values for the dependente variable evaluated at `x_0`.\n",
    "    f : callable\n",
    "        The function that represents the first derivative of y with respect to x.\n",
    "        It must accept two arguments: the point x at which it will be evaluated and\n",
    "        the value of y at this point.\n",
    "    step : float, optional\n",
    "        The step size between each iteration.\n",
    "    k_max : number\n",
    "        The maximum number of iterations.\n",
    "    method : [\"improved_euler\", \"heun\"]\n",
    "        The specific two-stage method to use.\n",
    "        \n",
    "    Yields\n",
    "    ------\n",
    "    x_k : float\n",
    "        The point at which the function was evaluated in the last iteration.\n",
    "    y_k : float\n",
    "        The value of the function in the last iteration.\n",
    "    \n",
    "    Raises\n",
    "    ------\n",
    "    TypeError\n",
    "        If the method argument is invalid or not supported.\n",
    "    \"\"\"\n",
    "    if k_max is None: counter = itertools.count()\n",
    "    else: counter = range(k_max)\n",
    "\n",
    "    if method == 'improved_euler':\n",
    "        b1, b2 = 1/2.0, 1/2.0\n",
    "        c2 = 1\n",
    "        a21 = 1\n",
    "    elif method == 'heun':\n",
    "        b1, b2 = 1/4.0, 3/4.0\n",
    "        c2 = 2/3.0\n",
    "        a21 = 2/3.0\n",
    "    else:\n",
    "        raise TypeError(\"The method {} is not valid or supported.\".format(method))\n",
    "        \n",
    "    x_k = x_0\n",
    "    y_k = y_0\n",
    "    yield (x_k, y_k)\n",
    "    for k in counter:\n",
    "        k1 = f(x_k, y_k)\n",
    "        k2 = f(x_k + c2 * step, y_k + a21 * step * k1)\n",
    "        \n",
    "        y_k = y_k + step * (b1 * k1 + b2 * k2)\n",
    "        x_k = x_k + step\n",
    "        yield (x_k, y_k)"
   ]
  },
  {
   "cell_type": "markdown",
   "metadata": {},
   "source": [
    "### Four-stage Runge-Kutta methods implementation"
   ]
  },
  {
   "cell_type": "code",
   "execution_count": 4,
   "metadata": {
    "collapsed": true
   },
   "outputs": [],
   "source": [
    "def rk4(x_0, y_0, f, step=0.001, k_max=None, method='classical'):\n",
    "    r\"\"\"\n",
    "    Four-stage Runge-Kutta methods for solving first-order ODE.\n",
    "    \n",
    "    The function computes `k_max` iterations from the initial conditions `x_0` and `y_0` with\n",
    "    steps of size `step`. It yields a total of `k_max` + 1 values. We call h_{k} the step at x_{k}.\n",
    "    \n",
    "    Classical Runge-Kutta method (RK4):\n",
    "    \n",
    "    y_{k+1} = y_{k} + h/6 * (k_{1} + 2*k_{2} + 2*k_{3} + k_{4})\n",
    "    \n",
    "    where\n",
    "    \n",
    "    k_{1} = f(x_{k}, y_{k})\n",
    "    k_{2} = f(x_{k} + h_{k}/2, y_{k} + h_{k}/2 * k_{1})\n",
    "    k_{3} = f(x_{k} + h_{k}/2, y_{k} + h_{k}/2 * k_{2})\n",
    "    k_{3} = f(x_{k} + h_{k}, y_{k} + h_{k} * k_{3})\n",
    "    \n",
    "    Variant of the classical Runge-Kutta method:\n",
    "    \n",
    "    y_{k+1} = y_{k} + h/8 * (k_{1} + 3*k_{2} + 3*k_{3} + k_{4})\n",
    "    \n",
    "    where\n",
    "    \n",
    "    k_{1} = f(x_{k}, y_{k})\n",
    "    k_{2} = f(x_{k} + h_{k}/3, y_{k} + h_{k}/3 * k_{1})\n",
    "    k_{3} = f(x_{k} + 2*h_{k}/3, y_{k} - h_{k}/3 * k_{1} + h_{k} * k_{2})\n",
    "    k_{3} = f(x_{k} + h_{k}, y_{k} + h_{k} * k_{1} - h_{k} * k_{2} + h_{k} * k_{3})\n",
    "    \n",
    "    Parameters\n",
    "    ----------\n",
    "    x_0 : float\n",
    "        The initial value for the independent variable.\n",
    "    y_0 : array_like\n",
    "        1-D array of initial values for the dependente variable evaluated at `x_0`.\n",
    "    f : callable\n",
    "        The function that represents the first derivative of y with respect to x.\n",
    "        It must accept two arguments: the point x at which it will be evaluated and\n",
    "        the value of y at this point.\n",
    "    step : float, optional\n",
    "        The step size between each iteration.\n",
    "    k_max : number\n",
    "        The maximum number of iterations.\n",
    "    method : [\"classical\", \"variant\"]\n",
    "        The specific four-stage method to use.\n",
    "        \n",
    "    Yields\n",
    "    ------\n",
    "    x_k : float\n",
    "        The point at which the function was evaluated in the last iteration.\n",
    "    y_k : float\n",
    "        The value of the function in the last iteration.\n",
    "    \n",
    "    Raises\n",
    "    ------\n",
    "    TypeError\n",
    "        If the method argument is invalid or not supported.\n",
    "    \"\"\"\n",
    "    if k_max is None: counter = itertools.count()\n",
    "    else: counter = range(k_max)\n",
    "        \n",
    "    if method == 'classical':\n",
    "        b1, b2, b3, b4 = 1/6.0, 1/3.0, 1/3.0, 1/6.0\n",
    "        c2, c3, c4 = 1/2.0, 1/2.0, 1\n",
    "        a21, a31, a32, a41, a42, a43 = 1/2.0, 0, 1/2.0, 0, 0, 1\n",
    "    elif method == 'variant':\n",
    "        b1, b2, b3, b4 = 1/8.0, 3/8.0, 3/8.0, 1/8.0\n",
    "        c2, c3, c4 = 1/3.0, 2/3.0, 1\n",
    "        a21, a31, a32, a41, a42, a43 = 1/3.0, -1/3.0, 1, 1, -1, 1\n",
    "    else:\n",
    "        raise TypeError(\"The method {} is not valid or supported.\".format(method))\n",
    "        \n",
    "    x_k = x_0\n",
    "    y_k = y_0\n",
    "    yield (x_k, y_k)\n",
    "    for k in counter:\n",
    "        k1 = f(x_k, y_k)\n",
    "        k2 = f(x_k + c2 * step, y_k + a21 * step * k1)\n",
    "        k3 = f(x_k + c3 * step, y_k + a31 * step * k1 + a32 * step * k2)\n",
    "        k4 = f(x_k + c4 * step, y_k + a41 * step * k1 + a42 * step * k2 + a43 * step * k3)\n",
    "        \n",
    "        y_k = y_k + step * (b1 * k1 + b2 * k2 + b3 * k3 + b4 * k4)\n",
    "        x_k = x_k + step\n",
    "        yield (x_k, y_k)"
   ]
  },
  {
   "cell_type": "markdown",
   "metadata": {},
   "source": [
    "## Examples"
   ]
  },
  {
   "cell_type": "markdown",
   "metadata": {},
   "source": [
    "### Example 1: two-stage Runge-Kutta methods"
   ]
  },
  {
   "cell_type": "markdown",
   "metadata": {},
   "source": [
    "Consider the following IVP:\n",
    "\n",
    "$$y' = x^{2} + y^{2}$$\n",
    "\n",
    "with\n",
    "\n",
    "$$y(0) = 0$$\n",
    "\n",
    "We will solve this IVP using the improved Euler's method and the Heun's method."
   ]
  },
  {
   "cell_type": "code",
   "execution_count": 5,
   "metadata": {},
   "outputs": [
    {
     "data": {
      "text/html": [
       "<div>\n",
       "<style>\n",
       "    .dataframe thead tr:only-child th {\n",
       "        text-align: right;\n",
       "    }\n",
       "\n",
       "    .dataframe thead th {\n",
       "        text-align: left;\n",
       "    }\n",
       "\n",
       "    .dataframe tbody tr th {\n",
       "        vertical-align: top;\n",
       "    }\n",
       "</style>\n",
       "<table border=\"1\" class=\"dataframe\">\n",
       "  <thead>\n",
       "    <tr style=\"text-align: right;\">\n",
       "      <th></th>\n",
       "      <th>x</th>\n",
       "      <th>y_heun</th>\n",
       "      <th>y_improved_euler</th>\n",
       "    </tr>\n",
       "  </thead>\n",
       "  <tbody>\n",
       "    <tr>\n",
       "      <th>0</th>\n",
       "      <td>0.0</td>\n",
       "      <td>0.000000</td>\n",
       "      <td>0.000000</td>\n",
       "    </tr>\n",
       "    <tr>\n",
       "      <th>1</th>\n",
       "      <td>0.1</td>\n",
       "      <td>0.000333</td>\n",
       "      <td>0.000500</td>\n",
       "    </tr>\n",
       "    <tr>\n",
       "      <th>2</th>\n",
       "      <td>0.2</td>\n",
       "      <td>0.002667</td>\n",
       "      <td>0.003000</td>\n",
       "    </tr>\n",
       "    <tr>\n",
       "      <th>3</th>\n",
       "      <td>0.3</td>\n",
       "      <td>0.009002</td>\n",
       "      <td>0.009503</td>\n",
       "    </tr>\n",
       "    <tr>\n",
       "      <th>4</th>\n",
       "      <td>0.4</td>\n",
       "      <td>0.021355</td>\n",
       "      <td>0.022025</td>\n",
       "    </tr>\n",
       "    <tr>\n",
       "      <th>5</th>\n",
       "      <td>0.5</td>\n",
       "      <td>0.041776</td>\n",
       "      <td>0.042621</td>\n",
       "    </tr>\n",
       "    <tr>\n",
       "      <th>6</th>\n",
       "      <td>0.6</td>\n",
       "      <td>0.072411</td>\n",
       "      <td>0.073442</td>\n",
       "    </tr>\n",
       "    <tr>\n",
       "      <th>7</th>\n",
       "      <td>0.7</td>\n",
       "      <td>0.115577</td>\n",
       "      <td>0.116817</td>\n",
       "    </tr>\n",
       "    <tr>\n",
       "      <th>8</th>\n",
       "      <td>0.8</td>\n",
       "      <td>0.173913</td>\n",
       "      <td>0.175396</td>\n",
       "    </tr>\n",
       "    <tr>\n",
       "      <th>9</th>\n",
       "      <td>0.9</td>\n",
       "      <td>0.250586</td>\n",
       "      <td>0.252374</td>\n",
       "    </tr>\n",
       "    <tr>\n",
       "      <th>10</th>\n",
       "      <td>1.0</td>\n",
       "      <td>0.349640</td>\n",
       "      <td>0.351830</td>\n",
       "    </tr>\n",
       "  </tbody>\n",
       "</table>\n",
       "</div>"
      ],
      "text/plain": [
       "      x    y_heun  y_improved_euler\n",
       "0   0.0  0.000000          0.000000\n",
       "1   0.1  0.000333          0.000500\n",
       "2   0.2  0.002667          0.003000\n",
       "3   0.3  0.009002          0.009503\n",
       "4   0.4  0.021355          0.022025\n",
       "5   0.5  0.041776          0.042621\n",
       "6   0.6  0.072411          0.073442\n",
       "7   0.7  0.115577          0.116817\n",
       "8   0.8  0.173913          0.175396\n",
       "9   0.9  0.250586          0.252374\n",
       "10  1.0  0.349640          0.351830"
      ]
     },
     "execution_count": 5,
     "metadata": {},
     "output_type": "execute_result"
    }
   ],
   "source": [
    "def example1(x_k, y_k):\n",
    "    return x_k**2 + y_k**2\n",
    "\n",
    "results = rk2(x_0=0.0, y_0=0.0, f=example1, step=0.1, k_max=10, method='improved_euler')\n",
    "x, y_improved_euler = extract(results)\n",
    "\n",
    "results = rk2(x_0=0.0, y_0=0.0, f=example1, step=0.1, k_max=10, method='heun')\n",
    "x, y_heun = extract(results)\n",
    "\n",
    "df1 = pd.DataFrame({\"x\": x, \"y_improved_euler\": y_improved_euler, \"y_heun\": y_heun})\n",
    "\n",
    "df1"
   ]
  },
  {
   "cell_type": "code",
   "execution_count": 6,
   "metadata": {},
   "outputs": [
    {
     "data": {
      "image/png": "[encoded data removed]",
      "text/plain": [
       "<matplotlib.figure.Figure at 0x7fa5072dc630>"
      ]
     },
     "metadata": {},
     "output_type": "display_data"
    }
   ],
   "source": [
    "fig, ax = plt.subplots(figsize=(13, 8))\n",
    "plt.plot(df1['x'], df1['y_improved_euler'], label='Improved Euler approximation with step 0.1', color='blue')\n",
    "plt.plot(df1['x'], df1['y_heun'], label='Heun approximation with step 0.1', color='red')\n",
    "plt.legend(loc='upper left', fancybox=True, framealpha=1, shadow=True, borderpad=1, frameon=True)\n",
    "ax.set(title=\"Two-stage Runge-Kutta methods\", xlabel=\"x\", ylabel=\"y\");"
   ]
  },
  {
   "cell_type": "markdown",
   "metadata": {},
   "source": [
    "As we can see from the figure above, the solutions are nearly identical (we almost cannot distinguish between them)."
   ]
  },
  {
   "cell_type": "markdown",
   "metadata": {},
   "source": [
    "### Example 2: four-stage Runge-Kutta methods"
   ]
  },
  {
   "cell_type": "markdown",
   "metadata": {},
   "source": [
    "Consider the same IVP of example 1:\n",
    "\n",
    "$$y' = x^{2} + y^{2}$$\n",
    "\n",
    "with\n",
    "\n",
    "$$y(0) = 0$$\n",
    "\n",
    "We will solve this IVP using both the classical Runge-Kutta method (RK4) and its variant."
   ]
  },
  {
   "cell_type": "code",
   "execution_count": 7,
   "metadata": {},
   "outputs": [
    {
     "data": {
      "text/html": [
       "<div>\n",
       "<style>\n",
       "    .dataframe thead tr:only-child th {\n",
       "        text-align: right;\n",
       "    }\n",
       "\n",
       "    .dataframe thead th {\n",
       "        text-align: left;\n",
       "    }\n",
       "\n",
       "    .dataframe tbody tr th {\n",
       "        vertical-align: top;\n",
       "    }\n",
       "</style>\n",
       "<table border=\"1\" class=\"dataframe\">\n",
       "  <thead>\n",
       "    <tr style=\"text-align: right;\">\n",
       "      <th></th>\n",
       "      <th>x</th>\n",
       "      <th>y_classical_rk4</th>\n",
       "      <th>y_variant_rk4</th>\n",
       "    </tr>\n",
       "  </thead>\n",
       "  <tbody>\n",
       "    <tr>\n",
       "      <th>0</th>\n",
       "      <td>0.0</td>\n",
       "      <td>0.000000</td>\n",
       "      <td>0.000000</td>\n",
       "    </tr>\n",
       "    <tr>\n",
       "      <th>1</th>\n",
       "      <td>0.1</td>\n",
       "      <td>0.000333</td>\n",
       "      <td>0.000333</td>\n",
       "    </tr>\n",
       "    <tr>\n",
       "      <th>2</th>\n",
       "      <td>0.2</td>\n",
       "      <td>0.002667</td>\n",
       "      <td>0.002667</td>\n",
       "    </tr>\n",
       "    <tr>\n",
       "      <th>3</th>\n",
       "      <td>0.3</td>\n",
       "      <td>0.009003</td>\n",
       "      <td>0.009003</td>\n",
       "    </tr>\n",
       "    <tr>\n",
       "      <th>4</th>\n",
       "      <td>0.4</td>\n",
       "      <td>0.021359</td>\n",
       "      <td>0.021359</td>\n",
       "    </tr>\n",
       "    <tr>\n",
       "      <th>5</th>\n",
       "      <td>0.5</td>\n",
       "      <td>0.041791</td>\n",
       "      <td>0.041791</td>\n",
       "    </tr>\n",
       "    <tr>\n",
       "      <th>6</th>\n",
       "      <td>0.6</td>\n",
       "      <td>0.072448</td>\n",
       "      <td>0.072448</td>\n",
       "    </tr>\n",
       "    <tr>\n",
       "      <th>7</th>\n",
       "      <td>0.7</td>\n",
       "      <td>0.115660</td>\n",
       "      <td>0.115660</td>\n",
       "    </tr>\n",
       "    <tr>\n",
       "      <th>8</th>\n",
       "      <td>0.8</td>\n",
       "      <td>0.174081</td>\n",
       "      <td>0.174081</td>\n",
       "    </tr>\n",
       "    <tr>\n",
       "      <th>9</th>\n",
       "      <td>0.9</td>\n",
       "      <td>0.250908</td>\n",
       "      <td>0.250908</td>\n",
       "    </tr>\n",
       "    <tr>\n",
       "      <th>10</th>\n",
       "      <td>1.0</td>\n",
       "      <td>0.350234</td>\n",
       "      <td>0.350233</td>\n",
       "    </tr>\n",
       "  </tbody>\n",
       "</table>\n",
       "</div>"
      ],
      "text/plain": [
       "      x  y_classical_rk4  y_variant_rk4\n",
       "0   0.0         0.000000       0.000000\n",
       "1   0.1         0.000333       0.000333\n",
       "2   0.2         0.002667       0.002667\n",
       "3   0.3         0.009003       0.009003\n",
       "4   0.4         0.021359       0.021359\n",
       "5   0.5         0.041791       0.041791\n",
       "6   0.6         0.072448       0.072448\n",
       "7   0.7         0.115660       0.115660\n",
       "8   0.8         0.174081       0.174081\n",
       "9   0.9         0.250908       0.250908\n",
       "10  1.0         0.350234       0.350233"
      ]
     },
     "execution_count": 7,
     "metadata": {},
     "output_type": "execute_result"
    }
   ],
   "source": [
    "def example2(x_k, y_k):\n",
    "    return x_k**2 + y_k**2\n",
    "\n",
    "results = rk4(x_0=0.0, y_0=0.0, f=example2, step=0.1, k_max=10, method='classical')\n",
    "x, y_classical_rk4 = extract(results)\n",
    "\n",
    "results = rk4(x_0=0.0, y_0=0.0, f=example2, step=0.1, k_max=10, method='variant')\n",
    "x, y_variant_rk4 = extract(results)\n",
    "\n",
    "df2 = pd.DataFrame({\"x\": x,\n",
    "                    \"y_classical_rk4\": y_classical_rk4,\n",
    "                    \"y_variant_rk4\": y_variant_rk4})\n",
    "\n",
    "df2"
   ]
  },
  {
   "cell_type": "code",
   "execution_count": 8,
   "metadata": {},
   "outputs": [
    {
     "data": {
      "image/png": "[encoded data removed]",
      "text/plain": [
       "<matplotlib.figure.Figure at 0x7fa504b7c860>"
      ]
     },
     "metadata": {},
     "output_type": "display_data"
    }
   ],
   "source": [
    "fig, ax = plt.subplots(figsize=(13, 8))\n",
    "plt.plot(df2['x'], df2['y_classical_rk4'],\n",
    "         label='Classical Runge-Kutta approximation with step 0.1', color='blue')\n",
    "plt.plot(df2['x'], df2['y_variant_rk4'],\n",
    "         label='Variant of the classical Runge-Kutta approximation with step 0.1', color='red')\n",
    "plt.legend(loc='upper left', fancybox=True, framealpha=1, shadow=True, borderpad=1, frameon=True)\n",
    "ax.set(title=\"Four-stage Runge-Kutta methods\", xlabel=\"x\", ylabel=\"y\");"
   ]
  },
  {
   "cell_type": "markdown",
   "metadata": {},
   "source": [
    "As we can see from the figure above, the solutions are nearly identical (we almost cannot distinguish between them)."
   ]
  },
  {
   "cell_type": "markdown",
   "metadata": {},
   "source": [
    "### Example 3"
   ]
  },
  {
   "cell_type": "markdown",
   "metadata": {},
   "source": [
    "Consider the following IVP:\n",
    "\n",
    "$$y' = tan(y) + 1$$\n",
    "\n",
    "with\n",
    "\n",
    "$$y(0) = 1$$\n",
    "\n",
    "for $t \\in [1, 1.1]$.\n",
    "\n",
    "We will solve this IVP using Heun's method."
   ]
  },
  {
   "cell_type": "code",
   "execution_count": 9,
   "metadata": {},
   "outputs": [
    {
     "data": {
      "text/html": [
       "<div>\n",
       "<style>\n",
       "    .dataframe thead tr:only-child th {\n",
       "        text-align: right;\n",
       "    }\n",
       "\n",
       "    .dataframe thead th {\n",
       "        text-align: left;\n",
       "    }\n",
       "\n",
       "    .dataframe tbody tr th {\n",
       "        vertical-align: top;\n",
       "    }\n",
       "</style>\n",
       "<table border=\"1\" class=\"dataframe\">\n",
       "  <thead>\n",
       "    <tr style=\"text-align: right;\">\n",
       "      <th></th>\n",
       "      <th>x</th>\n",
       "      <th>y_heun</th>\n",
       "    </tr>\n",
       "  </thead>\n",
       "  <tbody>\n",
       "    <tr>\n",
       "      <th>0</th>\n",
       "      <td>1.000</td>\n",
       "      <td>1.000000</td>\n",
       "    </tr>\n",
       "    <tr>\n",
       "      <th>1</th>\n",
       "      <td>1.025</td>\n",
       "      <td>1.066869</td>\n",
       "    </tr>\n",
       "    <tr>\n",
       "      <th>2</th>\n",
       "      <td>1.050</td>\n",
       "      <td>1.141332</td>\n",
       "    </tr>\n",
       "    <tr>\n",
       "      <th>3</th>\n",
       "      <td>1.075</td>\n",
       "      <td>1.227418</td>\n",
       "    </tr>\n",
       "    <tr>\n",
       "      <th>4</th>\n",
       "      <td>1.100</td>\n",
       "      <td>1.335079</td>\n",
       "    </tr>\n",
       "  </tbody>\n",
       "</table>\n",
       "</div>"
      ],
      "text/plain": [
       "       x    y_heun\n",
       "0  1.000  1.000000\n",
       "1  1.025  1.066869\n",
       "2  1.050  1.141332\n",
       "3  1.075  1.227418\n",
       "4  1.100  1.335079"
      ]
     },
     "execution_count": 9,
     "metadata": {},
     "output_type": "execute_result"
    }
   ],
   "source": [
    "def example3(x_k, y_k):\n",
    "    return np.tan(y_k) + 1\n",
    "\n",
    "results = rk2(x_0=1.0, y_0=1.0, f=example3, step=0.025, k_max=4, method='heun')\n",
    "x, y_heun = extract(results)\n",
    "\n",
    "df3 = pd.DataFrame({\"x\": x, \"y_heun\": y_heun})\n",
    "\n",
    "df3"
   ]
  },
  {
   "cell_type": "markdown",
   "metadata": {},
   "source": [
    "### Example 4: Exercise 8 from section 8.6"
   ]
  },
  {
   "cell_type": "markdown",
   "metadata": {},
   "source": [
    "The following example is actually the exercise 8 from section 8.6 of [Guidi].\n",
    "\n",
    "Consider the following IVP:\n",
    "\n",
    "$$y'' + (\\exp(y') - 1) + y = -3\\cos(t)$$\n",
    "\n",
    "with\n",
    "\n",
    "$$y(0) = y'(0) = 0$$\n",
    "\n",
    "Find an approximation for the solution through the classical Runge-Kutta method for $t \\in [0, 50]$ with $h = 0.01$. From the approximation obtained, find an estimative for the oscillation's amplitude for $t \\in [43, 50]$ with 4 digits.\n",
    "\n",
    "As this problem involves a second-order ODE, we must transform the variables so it becomes a system of first-order ODE:\n",
    "\n",
    "$$u_{1} = y$$\n",
    "$$u_{2} = y'$$\n",
    "\n",
    "Since $u_{2}' = y''$, $y'' = f(t, y, y')$ becomes $u_{2}' = g(t, u_{1}, u_{2})$.\n",
    "\n",
    "The resulting system of first-order ODE is\n",
    "\n",
    "$$\n",
    "  \\begin{cases}\n",
    "    u_{1}' = u_{2} \\\\\n",
    "    u_{2}' = -3\\cos(t) - \\exp(u_{2}) + 1 - u_{1}\n",
    "  \\end{cases}\n",
    "$$"
   ]
  },
  {
   "cell_type": "code",
   "execution_count": 10,
   "metadata": {},
   "outputs": [
    {
     "name": "stdout",
     "output_type": "stream",
     "text": [
      "The amplitude of oscilattion for t in [43, 50] is 4.457.\n"
     ]
    }
   ],
   "source": [
    "def example4(t_k, u_k):\n",
    "    return np.array([u_k[1], -3*np.cos(t_k) - np.exp(u_k[1]) + 1 - u_k[0]])\n",
    "\n",
    "results = rk4(x_0=0.0, y_0=np.array([0.0, 0.0]), f=example4, step=0.01, k_max=5000, method='classical')\n",
    "t, ys = extract(results)\n",
    "y_classical, dy_classical = extract(ys)\n",
    "\n",
    "df4 = pd.DataFrame({\"t\": t, \"y_classical\": y_classical, \"dy_classical\": dy_classical})\n",
    "\n",
    "t_interval = (df4.t > 43) & (df4.t < 50)\n",
    "df4_interval = df4.loc[t_interval, [\"t\", \"y_classical\"]]\n",
    "\n",
    "max_y = df4_interval.loc[:, \"y_classical\"].max()\n",
    "min_y = df4_interval.loc[:, \"y_classical\"].min()\n",
    "\n",
    "print(\"The amplitude of oscilattion for t in [43, 50] is {0:.3f}.\".format(max_y - min_y))"
   ]
  },
  {
   "cell_type": "code",
   "execution_count": 11,
   "metadata": {
    "scrolled": false
   },
   "outputs": [
    {
     "data": {
      "image/png": "[encoded data removed]",
      "text/plain": [
       "<matplotlib.figure.Figure at 0x7fa50491a630>"
      ]
     },
     "metadata": {},
     "output_type": "display_data"
    }
   ],
   "source": [
    "fig, ax = plt.subplots(figsize=(13, 8))\n",
    "plt.plot(df4['t'], df4['y_classical'],\n",
    "         label=\"Classical Runge-Kutta approximation with step 0.01\", color='blue')\n",
    "plt.plot(df4_interval['t'], df4_interval['y_classical'],\n",
    "         label=\"Interval of interest, $t \\in [43, 50]$\", color='red')\n",
    "plt.legend(loc='upper right', fancybox=True, framealpha=1, shadow=True, borderpad=1, frameon=True)\n",
    "ax.set(title=r\"Solution of y'' + (exp(y') - 1) + y = -3cos(t)\", xlabel=\"t\", ylabel=\"y\");"
   ]
  },
  {
   "cell_type": "markdown",
   "metadata": {},
   "source": [
    "### Question 2"
   ]
  },
  {
   "cell_type": "code",
   "execution_count": 12,
   "metadata": {
    "collapsed": true
   },
   "outputs": [],
   "source": [
    "def rk4_modified(x_0, y_0, f, step=0.001, k_max=None):\n",
    "    if k_max is None: counter = itertools.count()\n",
    "    else: counter = range(k_max)\n",
    "        \n",
    "    b1, b2, b3, b4, b5 = 1/6.0, 0.0, 0.0, 2/3.0, 1/6.0\n",
    "    c2, c3, c4, c5 = 1/3.0, 1/3.0, 1/2.0, 1.0\n",
    "    a21, a31, a32, a41, a42, a43, a51, a52, a53, a54 = 1/3.0, 1/6.0, 1/6.0, 1/8.0, 0.0, 3/8.0, 1/2.0, 0.0, -3/2.0, 2.0\n",
    "        \n",
    "    x_k = x_0\n",
    "    y_k = y_0\n",
    "    yield (x_k, y_k)\n",
    "    for k in counter:\n",
    "        k1 = f(x_k, y_k)\n",
    "        k2 = f(x_k + c2 * step, y_k + a21 * step * k1)\n",
    "        k3 = f(x_k + c3 * step, y_k + a31 * step * k1 + a32 * step * k2)\n",
    "        k4 = f(x_k + c4 * step, y_k + a41 * step * k1 + a42 * step * k2 + a43 * step * k3)\n",
    "        k5 = f(x_k + c5 * step, y_k + a51 * step * k1 + a52 * step * k2 + a53 * step * k3 + a54 * step * k4)\n",
    "        \n",
    "        y_k = y_k + step * (b1 * k1 + b2 * k2 + b3 * k3 + b4 * k4 + b5 * k5)\n",
    "        x_k = x_k + step\n",
    "        yield (x_k, y_k)"
   ]
  },
  {
   "cell_type": "code",
   "execution_count": 13,
   "metadata": {},
   "outputs": [
    {
     "name": "stdout",
     "output_type": "stream",
     "text": [
      "Ratio I(10)/R(10) is 1.16.\n"
     ]
    }
   ],
   "source": [
    "def question2(t, u_k):\n",
    "    return np.array([(4/5.0) * u_k[0] * u_k[1] - (1/4.0) * u_k[0], -(4/5.0) * u_k[0] * u_k[1]])\n",
    "\n",
    "\n",
    "results = rk4_modified(x_0=0.0, y_0=np.array([0.005, 0.995]), f=question2, step=0.0125, k_max=800)\n",
    "t, i_s = extract(results)\n",
    "i, s = extract(i_s)\n",
    "i, s = np.array(i), np.array(s)\n",
    "\n",
    "df5 = pd.DataFrame({\"t\": t, \"I\": i, \"S\": s, \"R\": (1 - (i + s))})\n",
    "df5 = df5[[\"t\", \"I\", \"S\", \"R\"]]\n",
    "\n",
    "print(\"Ratio I(10)/R(10) is {:.2f}.\".format(df5[\"I\"].iloc[-1]/df5[\"R\"].iloc[-1]))"
   ]
  },
  {
   "cell_type": "code",
   "execution_count": 16,
   "metadata": {},
   "outputs": [
    {
     "data": {
      "image/png": "[encoded data removed]",
      "text/plain": [
       "<matplotlib.figure.Figure at 0x7fa502bfe860>"
      ]
     },
     "metadata": {},
     "output_type": "display_data"
    }
   ],
   "source": [
    "fig, ax = plt.subplots(figsize=(13, 8))\n",
    "plt.plot(df5['t'], df5['I'],\n",
    "         label=\"$I(t)$: infected\", color='blue')\n",
    "plt.plot(df5['t'], df5['S'],\n",
    "         label=\"$S(t)$: non-infected\", color='green')\n",
    "plt.plot(df5['t'], df5['R'],\n",
    "         label=\"$R(t)$: recovered\", color='red')\n",
    "plt.legend(loc='upper right', fancybox=True, framealpha=1, shadow=True, borderpad=1, frameon=True)\n",
    "ax.set(title=r\"Epidemic evolution: Kermack–McKendrick SIR model\", xlabel=\"t\", ylabel=\"y\");"
   ]
  },
  {
   "cell_type": "markdown",
   "metadata": {},
   "source": [
    "## References"
   ]
  },
  {
   "cell_type": "markdown",
   "metadata": {},
   "source": [
    "* Guidi, L., Notas da disciplina Cálculo Numérico. Disponível em [Notas da disciplina Cálculo Numérico](http://www.mat.ufrgs.br/~guidi/grad/MAT01169/calculo_numerico.pdf).\n",
    "* Heath, M. T., Scientific Computing: An Introductory Survey, 2nd Edition, McGraw Hill, 2002.\n",
    "* Wikipedia, [Runge-Kutta methods](https://en.wikipedia.org/wiki/Runge%E2%80%93Kutta_methods)."
   ]
  }
 ],
 "metadata": {
  "kernelspec": {
   "display_name": "Python 3",
   "language": "python",
   "name": "python3"
  },
  "language_info": {
   "codemirror_mode": {
    "name": "ipython",
    "version": 3
   },
   "file_extension": ".py",
   "mimetype": "text/x-python",
   "name": "python",
   "nbconvert_exporter": "python",
   "pygments_lexer": "ipython3",
   "version": "3.6.1"
  }
 },
 "nbformat": 4,
 "nbformat_minor": 2
}
